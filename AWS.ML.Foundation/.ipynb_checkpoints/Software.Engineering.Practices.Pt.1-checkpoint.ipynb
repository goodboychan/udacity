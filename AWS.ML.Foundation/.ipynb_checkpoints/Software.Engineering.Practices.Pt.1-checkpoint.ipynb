{
 "cells": [
  {
   "cell_type": "markdown",
   "metadata": {},
   "source": [
    "## Clean and Modular Code\n",
    "- **PRODUCTION CODE**: software running on production servers to handle live users and data of the intended audience. Note,this is different from *production quality code*, which describes code that meets expectations in reliability, efficiency, etc., for production. Ideally, all code in production meets these expectations, but this is not always the case.\n",
    "\n",
    "\n",
    "- **CLEAN**: readable, simple, and concise. A characteristic of production quality code that is crucial for collaboration and maintainability in software development.\n",
    "\n",
    "\n",
    "- **MODULAR**:logically broken up into functions and modules. Also an important characteristics of production quality code that makes your code more organized, efficient, and reusable.\n",
    "\n",
    "\n",
    "- **MODULE**: a file. Modules allow code to be resued by encapsulating them into files that can be into other files"
   ]
  },
  {
   "cell_type": "markdown",
   "metadata": {},
   "source": [
    "## Refactoring Code\n",
    "- **REFACTORING**: restructuring your code to improve its internal structure, without changing its external functionality. This gives you a chance to clean and modularize your program after you've got it working.\n",
    "\n",
    "\n",
    "- Since it isn't easy to write your best code while you're still trying to just get it working, allocating time to do this is essential to producing high quality code. Despite the initial time and effort required, this really pays off by speeding up your development time in the long run.\n",
    "\n",
    "\n",
    "- You become a much stronger programmer when you're constantly looking to improve your code. The more you refactor, the easier it will be to structure and write good code the first time."
   ]
  },
  {
   "cell_type": "markdown",
   "metadata": {},
   "source": [
    "## Writing Clean Code\n",
    "### Meaningful Names\n",
    "> Tip: Use meaningful names\n",
    "> - **Be descriptive and imply type** : E.g. for booleans, you can prefix with `is_` or `has_` to make it clear it is a condition. You can also use part of speech to imply types, like verbs for functions and nouns for variables.\n",
    "> - **Be consistent but clearly differentiate** : E.g. `age_list` and `age` is easier to differentiate than `ages` and `age`.\n",
    "> - **Avoid abbreviations and especially single letters** : (Exception: counters and common math variables) Choosing when these exceptions can be made can be determined based on the audience for your code. If you work with other data scientists, certain variables may be common knowledge. While if you work with full stack engineers, it might be necessary to provide more descriptive names in these cases as well.\n",
    "> - **Long names != descriptive names** : You should be descriptive, but only with relevant information. E.g. good functions names describe what they do well without including details about implementation or highly specific uses.\n",
    "\n",
    "\n",
    "Try testing how effective your names are by asking a fellow programmer to guess the purpose of a functino or variable based on its name, without looking at your code. Coming up with meaningful names often requires effort to get right.\n",
    "\n",
    "### Nice Whitespace\n",
    "> **Tip: Use whitespace properly**\n",
    "> - Organize your code with consistent indentation - the standard is to use 4 spaces for each indent. You can make this a default in your text editor.\n",
    "> - Separate sections with blank lines to keep your code well organized and readable.\n",
    "> - Try to limit your lines to around 79 characters, which is the guideline given in the PEP 8 style guide. In many good text editors, there is a setting to display a subtle line that indicates where the 79 character limit is.\n",
    "\n",
    "For more guidelines, check out the code layout section of PEP 8 in the notes below.\n",
    "\n",
    "### Nice Whitespaces\n",
    "[PEP 8 guidelines for code layout](https://www.python.org/dev/peps/pep-0008/?#code-lay-out)"
   ]
  },
  {
   "cell_type": "markdown",
   "metadata": {},
   "source": [
    "## Writing Modular Code\n",
    "> **Tip: DRY (Don't Repeat Yourself)**\n",
    ">\n",
    "> Don't repeat yourself! Modularization allows you to reuse parts of your code. Generalize and consolidate repeated code in functions or loops.\n",
    "\n",
    "> **Tip: Abstract out logic to improve readability**\n",
    ">\n",
    "> Abstracting out code into a function not only makes it less repetitive, but also improves readability with descriptive function names. Although your code can become more readable when you abstract out logic into functions, it is possible to over-engineer this and have way too many modules, so use your judgement.\n",
    "\n",
    "> **Tip: Minimize the number of entities (functions, classes, modules, etc.)**\n",
    ">\n",
    "> There are tradeoffs to having function calls instead of inline logic. If you have broken up your code into an unnecessary amount of functions and modules, you'll have to jump around everywhere if you want to view the implementation details for something that may be too small to be worth it. Creating more modules doesn't necessarily result in effective modularization.\n",
    "\n",
    "> **Tip: Functions should do one thing**\n",
    ">\n",
    "> Each function you write should be focused on doing one thing. If a function is doing multiple things, it becomes more difficult to generalize and reuse. Generally, if there's an \"and\" in your function name, consider refactoring.\n",
    "\n",
    "> **Tip: Arbitrary variable names can be more effective in certain functions**\n",
    ">\n",
    "> Arbitrary variable names in general functions can actually make the code more readable.\n",
    "\n",
    "> **Tip: Try to use fewer than three arguments per function**\n",
    ">\n",
    "> Try to use no more than three arguments when possible. This is not a hard rule and there are times it is more appropriate to use many parameters. But in many cases, it's more effective to use fewer arguments. Remember we are modularizing to simplify our code and make it more efficient to work with. If your function has a lot of parameters, you may want to rethink how you are splitting this up."
   ]
  }
 ],
 "metadata": {
  "kernelspec": {
   "display_name": "Python 3",
   "language": "python",
   "name": "python3"
  },
  "language_info": {
   "codemirror_mode": {
    "name": "ipython",
    "version": 3
   },
   "file_extension": ".py",
   "mimetype": "text/x-python",
   "name": "python",
   "nbconvert_exporter": "python",
   "pygments_lexer": "ipython3",
   "version": "3.7.4"
  }
 },
 "nbformat": 4,
 "nbformat_minor": 2
}
