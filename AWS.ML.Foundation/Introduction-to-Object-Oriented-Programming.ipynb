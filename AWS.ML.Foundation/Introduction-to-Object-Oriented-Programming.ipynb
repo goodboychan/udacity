{
 "cells": [
  {
   "cell_type": "markdown",
   "metadata": {},
   "source": [
    "# Introduction to Object-Oriented Programming\n",
    "> A Summary of lecture in \"AWS ML Foundations Course\", via Udacity\n",
    "\n",
    "- toc: true \n",
    "- badges: true\n",
    "- comments: true\n",
    "- author: Chanseok Kang\n",
    "- categories: [Python, Udacity, Software Engineering]\n",
    "- image: my_icons/fastai_logo.png"
   ]
  },
  {
   "cell_type": "markdown",
   "metadata": {},
   "source": [
    "### Why Object-Oriented Programming?\n",
    "Object-oriented programming has a few benefits over procedural programming, which is the programming style you most likely first learned. As you'll see in this lesson,\n",
    "\n",
    "- object-oriented programming allows you to create large, modular programs that can easily expand over time;\n",
    "- object-oriented programs hide the implementation from the end-user.\n",
    "\n",
    "Consider Python packages like [Scikit-learn](https://github.com/scikit-learn/scikit-learn), [pandas](https://pandas.pydata.org/), and [NumPy](http://www.numpy.org/). These are all Python packages built with object-oriented programming. Scikit-learn, for example, is a relatively large and complex package built with object-oriented programming. This package has expanded over the years with new functionality and new algorithms.\n",
    "\n",
    "When you train a machine learning algorithm with Scikit-learn, you don't have to know anything about how the algorithms work or how they were coded. You can focus directly on the modeling.\n",
    "\n",
    "Here's an example taken from the Scikit-learn website:\n",
    "```python\n",
    "from sklearn import svm\n",
    "X = [[0, 0], [1, 1]]\n",
    "y = [0, 1]\n",
    "clf = svm.SVC()\n",
    "clf.fit(X, y)  \n",
    "```\n",
    "How does Scikit-learn train the SVM model? You don't need to know because the implementation is hidden with object-oriented programming. If the implementation changes, you as a user of Scikit-learn might not ever find out. Whether or not you SHOULD understand how SVM works is a different question.\n",
    "\n",
    "In this lesson, you'll practice the fundamentals of object-oriented programming. By the end of the lesson, you'll have built a Python package using object-oriented programming."
   ]
  },
  {
   "cell_type": "markdown",
   "metadata": {},
   "source": [
    "## Procedural vs Object-Oriented Programming\n",
    "- Procedural program : A list of instructions that execute one after the other starting from the top of a file and working down.\n",
    "- Object-Oriented Program : Built with objects. It focuses on the individual characteristics of each object and what each object can do. Object consists of **characteristics (or attributes)** and **actions (or methods)**."
   ]
  },
  {
   "cell_type": "markdown",
   "metadata": {},
   "source": [
    "![test](https://video.udacity-data.com/topher/2018/July/5b511a90_screen-shot-2018-07-19-at-4.05.25-pm/screen-shot-2018-07-19-at-4.05.25-pm.png)"
   ]
  },
  {
   "cell_type": "markdown",
   "metadata": {},
   "source": [
    "## Class, object, method, attribute\n",
    "- Vocabulary\n",
    "    - class - a blueprint consisting of methods and attributes\n",
    "    - object - an instance of a class. It can help to think of objects as something in the real world like a yellow pencil, a small dog, a blue shirt, etc. However, as you'll see later in the lesson, objects can be more abstract.\n",
    "    - attribute - a descriptor or characteristic. Examples would be color, length, size, etc. These attributes can take on specific values like blue, 3 inches, large, etc.\n",
    "    - method - an action that a class or object could take\n",
    "    - OOP - a commonly used abbreviation for object-oriented programming\n",
    "    - encapsulation - one of the fundamental ideas behind object-oriented programming is called encapsulation: you can combine functions and data all into a single entity. In object-oriented programming, this single entity is called a class. Encapsulation allows you to hide implementation details much like how the scikit-learn package hides the implementation of machine learning algorithms."
   ]
  },
  {
   "cell_type": "markdown",
   "metadata": {},
   "source": [
    "![class/object](https://video.udacity-data.com/topher/2018/July/5b511ad5_screen-shot-2018-07-19-at-4.06.55-pm/screen-shot-2018-07-19-at-4.06.55-pm.png)"
   ]
  },
  {
   "cell_type": "markdown",
   "metadata": {},
   "source": [
    "## Object-Oriented Programming Syntax\n",
    "### Function vs Method\n",
    "A function and a method look very similar. They both use the ```def``` keyword. They also have inputs and return outputs. The difference is that a method is inside of a class whereas a function is outside of a class.\n",
    "\n",
    "### What is self?\n",
    "If you instantiate two objects, how does Python differentiate between these two objects?\n",
    "```python\n",
    "shirt_one = Shirt('red', 'S', 'short-sleeve', 15)\n",
    "short_two = Shirt('yellow', 'M', 'long-sleeve', 20)\n",
    "```\n",
    "That's where self comes into play. If you call the ```change_price``` method on shirt_one, how does Python know to change the price of shirt_one and not of shirt_two?\n",
    "```python\n",
    "shirt_one.change_price(12)\n",
    "```\n",
    "Behind the scenes, Python is calling the change_price method:\n",
    "```python\n",
    "    def change_price(self, new_price):\n",
    "        self.price = new_price\n",
    "```\n",
    "```Self``` tells Python where to look in the computer's memory for the shirt_one object. And then Python changes the price of the shirt_one object. When you call the ```change_price``` method, ```shirt_one.change_price(12)```, ```self``` is implicitly passed in.\n",
    "\n",
    "The word ```self``` is just a convention. You could actually use any other name as long as you are consistent; however, you should always use self rather than some other word or else you might confuse people."
   ]
  },
  {
   "cell_type": "markdown",
   "metadata": {},
   "source": [
    "### Exercise\n",
    "#### Use the Shirt Class\n",
    "You've seen what a class looks like and how to instantiate an object. Now it's your turn to write code that insantiates a shirt object."
   ]
  },
  {
   "cell_type": "code",
   "execution_count": 1,
   "metadata": {},
   "outputs": [],
   "source": [
    "class Shirt:\n",
    "    def __init__(self, shirt_color, shirt_size, shirt_style, shirt_price):\n",
    "        self.color = shirt_color\n",
    "        self.size = shirt_size\n",
    "        self.style = shirt_style\n",
    "        self.price = shirt_price\n",
    "    \n",
    "    def change_price(self, new_price):\n",
    "        self.price = new_price\n",
    "        \n",
    "    def discount(self, discount):\n",
    "        return self.price * (1 - discount)"
   ]
  },
  {
   "cell_type": "code",
   "execution_count": 2,
   "metadata": {},
   "outputs": [],
   "source": [
    "### TODO:\n",
    "#    - insantiate a shirt object with the following characteristics:\n",
    "#        - color red, size S, style long-sleeve, and price 25\n",
    "#    - store the object in a variable called shirt_one\n",
    "#\n",
    "#\n",
    "###\n",
    "shirt_one = Shirt(shirt_color='red', shirt_size='S', shirt_style='long-sleeve', shirt_price=25)"
   ]
  },
  {
   "cell_type": "code",
   "execution_count": 3,
   "metadata": {},
   "outputs": [
    {
     "name": "stdout",
     "output_type": "stream",
     "text": [
      "25\n",
      "10\n",
      "8.8\n"
     ]
    }
   ],
   "source": [
    "### TODO:\n",
    "#     - print the price of the shirt using the price attribute\n",
    "#     - use the change_price method to change the price of the shirt to 10\n",
    "#     - print the price of the shirt using the price attribute\n",
    "#     - use the discount method to print the price of the shirt with a 12% discount\n",
    "#\n",
    "###\n",
    "print(shirt_one.price)\n",
    "shirt_one.change_price(10)\n",
    "print(shirt_one.price)\n",
    "print(shirt_one.discount(0.12))"
   ]
  },
  {
   "cell_type": "code",
   "execution_count": 4,
   "metadata": {},
   "outputs": [],
   "source": [
    "### TODO:\n",
    "#\n",
    "#    - instantiate another object with the following characteristics:\n",
    "# .       - color orange, size L, style short-sleeve, and price 10\n",
    "#    - store the object in a variable called shirt_two\n",
    "#\n",
    "###\n",
    "shirt_two = Shirt('orange', 'L', 'short-sleeve',10)"
   ]
  },
  {
   "cell_type": "code",
   "execution_count": 5,
   "metadata": {},
   "outputs": [],
   "source": [
    "### TODO:\n",
    "#\n",
    "#    - calculate the total cost of shirt_one and shirt_two\n",
    "#    - store the results in a variable called total\n",
    "#    \n",
    "###\n",
    "total = shirt_one.price + shirt_two.price"
   ]
  },
  {
   "cell_type": "code",
   "execution_count": 6,
   "metadata": {},
   "outputs": [],
   "source": [
    "### TODO:\n",
    "#\n",
    "#    - use the shirt discount method to calculate the total cost if\n",
    "#       shirt_one has a discount of 14% and shirt_two has a discount\n",
    "#       of 6%\n",
    "#    - store the results in a variable called total_discount\n",
    "###\n",
    "total_discount = shirt_one.discount(0.14) + shirt_two.discount(0.06)"
   ]
  },
  {
   "cell_type": "markdown",
   "metadata": {},
   "source": [
    "### Notes About OOP\n",
    "#### Set and Get methods\n",
    "The shirt class has a method to change the price of the shirt: shirt_one.change_price(20). In Python, you can also change the values of an attribute with the following syntax:\n",
    "```python\n",
    "shirt_one.price = 10\n",
    "shirt_one.price = 20\n",
    "shirt_one.color = 'red'\n",
    "shirt_one.size = 'M'\n",
    "shirt_one.style = 'long_sleeve'\n",
    "```\n",
    "This code accesses and changes the price, color, size and style attributes directly. Accessing attributes directly would be frowned upon in many other languages but **not in Python**. Instead, the general object-oriented programming convention is to use methods to access attributes or change attribute values. These methods are called **set** and **get** methods or **setter** and **getter** methods.\n",
    "\n",
    "A get method is for obtaining an attribute value. A set method is for changing an attribute value. If you were writing a Shirt class, the code could look like this:\n",
    "```python\n",
    "class Shirt:\n",
    "\n",
    "    def __init__(self, shirt_color, shirt_size, shirt_style, shirt_price):\n",
    "        self._price = shirt_price\n",
    "\n",
    "    def get_price(self):\n",
    "      return self._price\n",
    "\n",
    "    def set_price(self, new_price):\n",
    "      self._price = new_price\n",
    "```\n",
    "Instantiating and using an object might look like this:\n",
    "```python\n",
    "shirt_one = Shirt('yellow', 'M', 'long-sleeve', 15)\n",
    "print(shirt_one.get_price())\n",
    "shirt_one.set_price(10)\n",
    "```\n",
    "In the class definition, the underscore in front of price is a somewhat controversial Python convention. In other languages like C++ or Java, price could be explicitly labeled as a private variable. This would prohibit an object from accessing the price attribute directly like ```shirt_one._price = 15```. However, Python does not distinguish between private and public variables like other languages. Therefore, there is some controversy about using the underscore convention as well as get and set methods in Python. Why use get and set methods in Python when Python wasn't designed to use them?\n",
    "\n",
    "At the same time, you'll find that some Python programmers develop object-oriented programs using get and set methods anyway. Following the Python convention, the underscore in front of price is to let a programmer know that price should only be accessed with get and set methods rather than accessing price directly with ```shirt_one._price```. However, a programmer could still access _price directly because there is nothing in the Python language to prevent the direct access.\n",
    "\n",
    "To reiterate, a programmer could technically still do something like ```shirt_one._price = 10```, and the code would work. But accessing price directly, in this case, would not be following the intent of how the Shirt class was designed.\n",
    "\n",
    "One of the benefits of set and get methods is that, as previously mentioned in the course, you can hide the implementation from your user. Maybe originally a variable was coded as a list and later became a dictionary. With set and get methods, you could easily change how that variable gets accessed. Without set and get methods, you'd have to go to every place in the code that accessed the variable directly and change the code.\n",
    "\n",
    "#### A Note about Attributes\n",
    "There are some drawbacks to accessing attributes directly versus writing a method for accessing attributes.\n",
    "\n",
    "In terms of object-oriented programming, the rules in Python are a bit looser than in other programming languages. As previously mentioned, in some languages, like C++, you can explicitly state whether or not an object should be allowed to change or access an attribute's values directly. Python does not have this option.\n",
    "\n",
    "Why might it be better to change a value with a method instead of directly? Changing values via a method gives you more flexibility in the long-term. What if the units of measurement change, like the store was originally meant to work in US dollars and now has to handle Euros? Here's an example:\n",
    "\n",
    "- Example Dollars versus Euros\n",
    "If you've changed attribute values directly, you'll have to go through your code and find all the places where US dollars were used, like:\n",
    "```python\n",
    "shirt_one.price = 10 # US dollars\n",
    "```\n",
    "and then manually change to Euros\n",
    "```python\n",
    "shirt_one.price = 8 # Euros\n",
    "```\n",
    "If you had used a method, then you would only have to change the method to convert from dollars to Euros.\n",
    "\n",
    "```python\n",
    "def change_price(self, new_price):\n",
    "    self.price = new_price * 0.81 # convert dollars to Euros\n",
    "\n",
    "shirt_one.change_price(10)\n",
    "```\n",
    "For the purposes of this introduction to object-oriented programming, you will not need to worry about updating attributes directly versus with a method; however, if you decide to further your studies of object-oriented programming, especially in another language such as C++ or Java, you'll have to take this into consideration.\n",
    "\n",
    "#### Modularized Code\n",
    "Thus far in the lesson, all of the code has been in Jupyter Notebooks. For example, in the previous exercise, a code cell loaded the Shirt class, which gave you access to the Shirt class throughout the rest of the notebook; however, if you were developing a software program, you would want to modularize this code.\n",
    "\n",
    "You would put the Shirt class into its own Python script called, say, shirt.py. And then in another Python script, you would import the Shirt class with a line like: ```from shirt import Shirt```.\n",
    "\n",
    "For now, as you get used to OOP syntax, you'll be completing exercises in Jupyter notebooks. But midway through the lesson, you'll modularize object-oriented code into separate files."
   ]
  },
  {
   "cell_type": "markdown",
   "metadata": {},
   "source": [
    "### Exercise\n",
    "Now that you've had some practice instantiating objects, it's time to write your own class from scratch. This lesson has two parts. In the first part, you'll write a Pants class. This class is similar to the shirt class with a couple of changes. Then you'll practice instantiating Pants objects\n",
    "\n",
    "In the second part, you'll write another class called SalesPerson. You'll also instantiate objects for the SalesPerson."
   ]
  },
  {
   "cell_type": "markdown",
   "metadata": {},
   "source": [
    "#### Pants class\n",
    "\n",
    "Write a Pants class with the following characteristics:\n",
    "* the class name should be Pants\n",
    "* the class attributes should include\n",
    " * color\n",
    " * waist_size\n",
    " * length\n",
    " * price\n",
    "* the class should have an init function that initializes all of the attributes\n",
    "* the class should have two methods\n",
    " * change_price() a method to change the price attribute\n",
    " * discount() to calculate a discount"
   ]
  },
  {
   "cell_type": "code",
   "execution_count": 9,
   "metadata": {},
   "outputs": [],
   "source": [
    "### TODO:\n",
    "#   - code a Pants class with the following attributes\n",
    "#   - color (string) eg 'red', 'yellow', 'orange'\n",
    "#   - waist_size (integer) eg 8, 9, 10, 32, 33, 34\n",
    "#   - length (integer) eg 27, 28, 29, 30, 31\n",
    "#   - price (float) eg 9.28\n",
    "\n",
    "### TODO: Declare the Pants Class \n",
    "class Pants:\n",
    "### TODO: write an __init__ function to initialize the attributes\n",
    "    def __init__(self, color, waist_size, length, price):\n",
    "        self.color = color\n",
    "        self.waist_size = waist_size\n",
    "        self.length = length\n",
    "        self.price = price\n",
    "### TODO: write a change_price method:\n",
    "#    Args:\n",
    "#        new_price (float): the new price of the shirt\n",
    "#    Returns:\n",
    "#        None\n",
    "    def change_price(self, new_price):\n",
    "        self.price = new_price\n",
    "### TODO: write a discount method:\n",
    "#    Args:\n",
    "#        discount (float): a decimal value for the discount. \n",
    "#            For example 0.05 for a 5% discount.\n",
    "#\n",
    "#    Returns:\n",
    "#        float: the discounted price\n",
    "    def discount(self, discount):\n",
    "        return self.price * (1 - discount)"
   ]
  },
  {
   "cell_type": "code",
   "execution_count": 10,
   "metadata": {},
   "outputs": [
    {
     "name": "stdout",
     "output_type": "stream",
     "text": [
      "You made it to the end of the check. Nice job!\n"
     ]
    }
   ],
   "source": [
    "def check_results():\n",
    "    pants = Pants('red', 35, 36, 15.12)\n",
    "    assert pants.color == 'red'\n",
    "    assert pants.waist_size == 35\n",
    "    assert pants.length == 36\n",
    "    assert pants.price == 15.12\n",
    "    \n",
    "    pants.change_price(10) == 10\n",
    "    assert pants.price == 10 \n",
    "    \n",
    "    assert pants.discount(.1) == 9\n",
    "    \n",
    "    print('You made it to the end of the check. Nice job!')\n",
    "\n",
    "check_results()"
   ]
  },
  {
   "cell_type": "markdown",
   "metadata": {},
   "source": [
    "#### SalesPerson class\n",
    "\n",
    "The Pants class and Shirt class are quite similar. Here is an exercise to give you more practice writing a class. **This exercise is trickier than the previous exercises.**\n",
    "\n",
    "Write a SalesPerson class with the following characteristics:\n",
    "* the class name should be SalesPerson\n",
    "* the class attributes should include\n",
    " * first_name \n",
    " * last_name\n",
    " * employee_id\n",
    " * salary\n",
    " * pants_sold\n",
    " * total_sales\n",
    "* the class should have an init function that initializes all of the attributes\n",
    "* the class should have four methods\n",
    " * sell_pants() a method to change the price attribute\n",
    " * calculate_sales() a method to calculate the sales\n",
    " * display_sales() a method to print out all the pants sold with nice formatting\n",
    " * calculate_commission() a method to calculate the salesperson commission based on total sales and a percentage"
   ]
  },
  {
   "cell_type": "code",
   "execution_count": 11,
   "metadata": {},
   "outputs": [],
   "source": [
    "### TODO:\n",
    "#   Code a SalesPerson class with the following attributes\n",
    "#   - first_name (string), the first name of the salesperson\n",
    "#   - last_name (string), the last name of the salesperson\n",
    "#   - employee_id (int), the employee ID number like 5681923\n",
    "#   - salary (float), the monthly salary of the employee\n",
    "#   - pants_sold (list of Pants objects), \n",
    "#            pants that the salesperson has sold \n",
    "#   - total_sales (float), sum of sales of pants sold\n",
    "\n",
    "### TODO: Declare the SalesPerson Class \n",
    "class SalesPerson:\n",
    "### TODO: write an __init__ function to initialize the attributes\n",
    "###    Input Args for the __init__ function:\n",
    "#        first_name (str)\n",
    "#        last_name (str)\n",
    "#        employee_id (int)\n",
    "# .      salary (float)\n",
    "#\n",
    "# You can initialize pants_sold as an empty list\n",
    "# You can initialize total_sales to zero.\n",
    "#\n",
    "###\n",
    "    def __init__(self, first_name, last_name, employee_id, salary):\n",
    "        self.first_name = first_name\n",
    "        self.last_name = last_name\n",
    "        self.employee_id = employee_id\n",
    "        self.salary = salary\n",
    "        self.pants_sold = []\n",
    "        self.total_sales = 0\n",
    "### TODO: write a sell_pants method:\n",
    "#\n",
    "#    This method receives a Pants object and appends\n",
    "#    the object to the pants_sold attribute list\n",
    "#\n",
    "#    Args:\n",
    "#        pants (Pants object): a pants object\n",
    "#    Returns:\n",
    "#        None\n",
    "    def sell_pants(self, pants):\n",
    "        self.pants_sold.append(pants)\n",
    "        \n",
    "### TODO: write a display_sales method:\n",
    "#    \n",
    "#    This method has no input or outputs. When this method \n",
    "#    is called, the code iterates through the pants_sold list\n",
    "#    and prints out the characteristics of each pair of pants\n",
    "#    line by line. The print out should look something like this\n",
    "#\n",
    "#   color: blue, waist_size: 34, length: 34, price: 10\n",
    "#   color: red, waist_size: 36, length: 30, price: 14.15\n",
    "#\n",
    "#\n",
    "#\n",
    "###\n",
    "    def display_sales(self):\n",
    "        fmt = 'color: {}, waist_size: {}, length: {}, price: {}'\n",
    "        for pants in self.pants_sold:\n",
    "            print(fmt.format(pants.color, pants.waist_size, pants.length, pants.price))\n",
    "### TODO: write a calculate_sales method:\n",
    "#      This method calculates the total sales for the sales person.\n",
    "#      The method should iterate through the pants_sold attribute list\n",
    "#      and sum the prices of the pants sold. The sum should be stored\n",
    "#      in the total_sales attribute and then return the total.\n",
    "#      \n",
    "#      Args:\n",
    "#        None\n",
    "#      Returns:\n",
    "#        float: total sales\n",
    "#\n",
    "###  \n",
    "    def calculate_sales(self):\n",
    "        self.total_sales = 0\n",
    "        for pants in self.pants_sold:\n",
    "            self.total_sales += pants.price\n",
    "        return self.total_sales\n",
    "\n",
    "### TODO: write a calculate_commission method:\n",
    "#\n",
    "#   The salesperson receives a commission based on the total\n",
    "#   sales of pants. The method receives a percentage, and then\n",
    "#   calculate the total sales of pants based on the price,\n",
    "#   and then returns the commission as (percentage * total sales)\n",
    "#\n",
    "#    Args:\n",
    "#        percentage (float): comission percentage as a decimal\n",
    "#\n",
    "#    Returns:\n",
    "#        float: total commission\n",
    "#\n",
    "#\n",
    "###\n",
    "    def calculate_commission(self, percentage):\n",
    "        return percentage * self.total_sales"
   ]
  },
  {
   "cell_type": "code",
   "execution_count": 12,
   "metadata": {},
   "outputs": [
    {
     "name": "stdout",
     "output_type": "stream",
     "text": [
      "Great job, you made it to the end of the code checks!\n"
     ]
    }
   ],
   "source": [
    "def check_results():\n",
    "    pants_one = Pants('red', 35, 36, 15.12)\n",
    "    pants_two = Pants('blue', 40, 38, 24.12)\n",
    "    pants_three = Pants('tan', 28, 30, 8.12)\n",
    "    \n",
    "    salesperson = SalesPerson('Amy', 'Gonzalez', 2581923, 40000)\n",
    "    \n",
    "    assert salesperson.first_name == 'Amy'\n",
    "    assert salesperson.last_name == 'Gonzalez'\n",
    "    assert salesperson.employee_id == 2581923\n",
    "    assert salesperson.salary == 40000\n",
    "    assert salesperson.pants_sold == []\n",
    "    assert salesperson.total_sales == 0\n",
    "    \n",
    "    salesperson.sell_pants(pants_one)\n",
    "    salesperson.pants_sold[0] == pants_one.color\n",
    "    \n",
    "    salesperson.sell_pants(pants_two)\n",
    "    salesperson.sell_pants(pants_three)\n",
    "    \n",
    "    assert len(salesperson.pants_sold) == 3\n",
    "    assert round(salesperson.calculate_sales(),2) == 47.36\n",
    "    assert round(salesperson.calculate_commission(.1),2) == 4.74\n",
    "    \n",
    "    print('Great job, you made it to the end of the code checks!')\n",
    "    \n",
    "check_results()"
   ]
  },
  {
   "cell_type": "markdown",
   "metadata": {},
   "source": [
    "#### Check display_sales() method\n",
    "\n",
    "If you run the code cell below, you should get output similar to this:\n",
    "\n",
    "```python\n",
    "color: red, waist_size: 35, length: 36, price: 15.12\n",
    "color: blue, waist_size: 40, length: 38, price: 24.12\n",
    "color: tan, waist_size: 28, length: 30, price: 8.12\n",
    "```"
   ]
  },
  {
   "cell_type": "code",
   "execution_count": 13,
   "metadata": {},
   "outputs": [
    {
     "name": "stdout",
     "output_type": "stream",
     "text": [
      "color: red, waist_size: 35, length: 36, price: 15.12\n",
      "color: blue, waist_size: 40, length: 38, price: 24.12\n",
      "color: tan, waist_size: 28, length: 30, price: 8.12\n"
     ]
    }
   ],
   "source": [
    "pants_one = Pants('red', 35, 36, 15.12)\n",
    "pants_two = Pants('blue', 40, 38, 24.12)\n",
    "pants_three = Pants('tan', 28, 30, 8.12)\n",
    "\n",
    "salesperson = SalesPerson('Amy', 'Gonzalez', 2581923, 40000)\n",
    "\n",
    "salesperson.sell_pants(pants_one)    \n",
    "salesperson.sell_pants(pants_two)\n",
    "salesperson.sell_pants(pants_three)\n",
    "\n",
    "salesperson.display_sales()"
   ]
  },
  {
   "cell_type": "markdown",
   "metadata": {},
   "source": [
    "### Commenting Object-Oriented Code\n",
    "Did you notice anything special about the answer key in the previous exercise? The Pants class and the SalesPerson class contained docstrings! A docstring is a type of comment that describes how a Python module, function, class or method works. Docstrings, therefore, are not unique to object-oriented programming. This section of the course is merely reminding you to use docstrings and to comment your code. It's not just going to help you understand and maintain your code. It will also make you a better job candidate.\n",
    "\n",
    "From this point on, please always comment your code. Use both in-line comments and document level comments as appropriate.\n",
    "\n",
    "Check out this [link](http://sphinxcontrib-napoleon.readthedocs.io/en/latest/example_google.html) to read more about docstrings.\n",
    "    - Make sure to indent your docstrings correctly or the code will not run. A docstring should be indented one indentation underneath the class or method being described.\n",
    "    - You don't have to define 'self' in your method docstrings. It's understood that any method will have self as the first method input.\n"
   ]
  },
  {
   "cell_type": "code",
   "execution_count": null,
   "metadata": {},
   "outputs": [],
   "source": []
  }
 ],
 "metadata": {
  "kernelspec": {
   "display_name": "Python 3",
   "language": "python",
   "name": "python3"
  },
  "language_info": {
   "codemirror_mode": {
    "name": "ipython",
    "version": 3
   },
   "file_extension": ".py",
   "mimetype": "text/x-python",
   "name": "python",
   "nbconvert_exporter": "python",
   "pygments_lexer": "ipython3",
   "version": "3.7.6"
  }
 },
 "nbformat": 4,
 "nbformat_minor": 4
}
